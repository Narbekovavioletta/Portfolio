{
 "cells": [
  {
   "cell_type": "markdown",
   "id": "f80fad2c",
   "metadata": {
    "id": "f80fad2c"
   },
   "source": [
    "# Анализ вакансий специалистов DA в LinkedIn\n",
    "\n",
    "**Задача:** Исследовать рынок открытых вакансий специалистов DA в Европе с помощью спарсенных с LinkedIn данных. Результаты исследования собрать в дашборд.\n",
    "\n",
    "**Описание данных**\n",
    "- `title` - должность\n",
    "- `location` - город\n",
    "- `country` - страна\n",
    "- `employment_type` - тип занятости\n",
    "- `company_name` - название компании\n",
    "- `employee_qty` - количество сотрудников в компании\n",
    "- `company_field` - сфера деятельности компании\n",
    "- `skills` - навыки\n",
    "- `job_description` - описание вакансии\n",
    "- `applicants` - количество откливкнувшихся"
   ]
  },
  {
   "cell_type": "markdown",
   "id": "1a4333ea",
   "metadata": {
    "id": "1a4333ea"
   },
   "source": [
    "## Загрузка и предобрабокта данных"
   ]
  },
  {
   "cell_type": "code",
   "execution_count": 1,
   "id": "ff8d5825",
   "metadata": {
    "executionInfo": {
     "elapsed": 445,
     "status": "ok",
     "timestamp": 1685858142546,
     "user": {
      "displayName": "Yulia Murtazina",
      "userId": "04833768296677648560"
     },
     "user_tz": -480
    },
    "id": "ff8d5825"
   },
   "outputs": [],
   "source": [
    "import pandas as pd\n",
    "import numpy as np\n",
    "import re"
   ]
  },
  {
   "cell_type": "code",
   "execution_count": 2,
   "id": "9acde13a",
   "metadata": {
    "executionInfo": {
     "elapsed": 18,
     "status": "ok",
     "timestamp": 1685858142547,
     "user": {
      "displayName": "Yulia Murtazina",
      "userId": "04833768296677648560"
     },
     "user_tz": -480
    },
    "id": "9acde13a"
   },
   "outputs": [],
   "source": [
    "pth1_data = 'linkedin.csv'\n",
    "\n",
    "# сюда можно ввести ваш адрес к датасету\n",
    "pth2_data = ''\n",
    "\n",
    "try:\n",
    "    data = pd.read_csv(pth1_data)\n",
    "except FileNotFoundError:\n",
    "    data = pd.read_csv(pth2_data)\n",
    "except:\n",
    "    print('Something is wrong')"
   ]
  },
  {
   "cell_type": "code",
   "execution_count": 3,
   "id": "cec215e9",
   "metadata": {
    "colab": {
     "base_uri": "https://localhost:8080/",
     "height": 519
    },
    "executionInfo": {
     "elapsed": 17,
     "status": "ok",
     "timestamp": 1685858142547,
     "user": {
      "displayName": "Yulia Murtazina",
      "userId": "04833768296677648560"
     },
     "user_tz": -480
    },
    "id": "cec215e9",
    "outputId": "e2a15eb6-b87a-475c-fa51-772f5bfa463a"
   },
   "outputs": [
    {
     "name": "stdout",
     "output_type": "stream",
     "text": [
      "<class 'pandas.core.frame.DataFrame'>\n",
      "RangeIndex: 998 entries, 0 to 997\n",
      "Data columns (total 10 columns):\n",
      " #   Column           Non-Null Count  Dtype  \n",
      "---  ------           --------------  -----  \n",
      " 0   title            998 non-null    object \n",
      " 1   location         998 non-null    object \n",
      " 2   country          998 non-null    object \n",
      " 3   employment_type  998 non-null    object \n",
      " 4   company_name     996 non-null    object \n",
      " 5   employee_qty     998 non-null    object \n",
      " 6   company_field    998 non-null    object \n",
      " 7   skills           998 non-null    object \n",
      " 8   job_description  998 non-null    object \n",
      " 9   applicants       838 non-null    float64\n",
      "dtypes: float64(1), object(9)\n",
      "memory usage: 78.1+ KB\n"
     ]
    },
    {
     "data": {
      "text/plain": [
       "None"
      ]
     },
     "metadata": {},
     "output_type": "display_data"
    },
    {
     "data": {
      "text/html": [
       "<div>\n",
       "<style scoped>\n",
       "    .dataframe tbody tr th:only-of-type {\n",
       "        vertical-align: middle;\n",
       "    }\n",
       "\n",
       "    .dataframe tbody tr th {\n",
       "        vertical-align: top;\n",
       "    }\n",
       "\n",
       "    .dataframe thead th {\n",
       "        text-align: right;\n",
       "    }\n",
       "</style>\n",
       "<table border=\"1\" class=\"dataframe\">\n",
       "  <thead>\n",
       "    <tr style=\"text-align: right;\">\n",
       "      <th></th>\n",
       "      <th>title</th>\n",
       "      <th>location</th>\n",
       "      <th>country</th>\n",
       "      <th>employment_type</th>\n",
       "      <th>company_name</th>\n",
       "      <th>employee_qty</th>\n",
       "      <th>company_field</th>\n",
       "      <th>skills</th>\n",
       "      <th>job_description</th>\n",
       "      <th>applicants</th>\n",
       "    </tr>\n",
       "  </thead>\n",
       "  <tbody>\n",
       "    <tr>\n",
       "      <th>0</th>\n",
       "      <td>Data Analyst</td>\n",
       "      <td>Basel</td>\n",
       "      <td>Switzerland</td>\n",
       "      <td>On-site</td>\n",
       "      <td>PharmiWeb.Jobs: Global Life Science Jobs</td>\n",
       "      <td>11-50 employees</td>\n",
       "      <td>Staffing and Recruiting</td>\n",
       "      <td>None</td>\n",
       "      <td>What You Will Achi...</td>\n",
       "      <td>47.0</td>\n",
       "    </tr>\n",
       "    <tr>\n",
       "      <th>1</th>\n",
       "      <td>Data Analyst - Logistics</td>\n",
       "      <td>Coventry</td>\n",
       "      <td>United Kingdom</td>\n",
       "      <td>On-site</td>\n",
       "      <td>Resolute Recruitment</td>\n",
       "      <td>not specified</td>\n",
       "      <td>not specified</td>\n",
       "      <td>None</td>\n",
       "      <td></td>\n",
       "      <td>NaN</td>\n",
       "    </tr>\n",
       "    <tr>\n",
       "      <th>2</th>\n",
       "      <td>Data Analyst - Logistics</td>\n",
       "      <td>Coventry</td>\n",
       "      <td>United Kingdom</td>\n",
       "      <td>On-site</td>\n",
       "      <td>Resolute Recruitment</td>\n",
       "      <td>not specified</td>\n",
       "      <td>not specified</td>\n",
       "      <td>None</td>\n",
       "      <td>Data Analyst - Lo...</td>\n",
       "      <td>NaN</td>\n",
       "    </tr>\n",
       "    <tr>\n",
       "      <th>3</th>\n",
       "      <td>Data Analyst (Space &amp; Planning)</td>\n",
       "      <td>South Molton</td>\n",
       "      <td>United Kingdom</td>\n",
       "      <td>On-site</td>\n",
       "      <td>Mole Valley Farmers</td>\n",
       "      <td>not specified</td>\n",
       "      <td>not specified</td>\n",
       "      <td>None</td>\n",
       "      <td>Salary:     To b...</td>\n",
       "      <td>NaN</td>\n",
       "    </tr>\n",
       "    <tr>\n",
       "      <th>4</th>\n",
       "      <td>Data Analyst</td>\n",
       "      <td>Lugano</td>\n",
       "      <td>Switzerland</td>\n",
       "      <td>On-site</td>\n",
       "      <td>FORFIRM</td>\n",
       "      <td>not specified</td>\n",
       "      <td>not specified</td>\n",
       "      <td>None</td>\n",
       "      <td>FORFIRM     is p...</td>\n",
       "      <td>NaN</td>\n",
       "    </tr>\n",
       "  </tbody>\n",
       "</table>\n",
       "</div>"
      ],
      "text/plain": [
       "                             title      location          country  \\\n",
       "0                     Data Analyst         Basel      Switzerland   \n",
       "1         Data Analyst - Logistics      Coventry   United Kingdom   \n",
       "2         Data Analyst - Logistics      Coventry   United Kingdom   \n",
       "3  Data Analyst (Space & Planning)  South Molton   United Kingdom   \n",
       "4                     Data Analyst        Lugano      Switzerland   \n",
       "\n",
       "  employment_type                              company_name     employee_qty  \\\n",
       "0         On-site  PharmiWeb.Jobs: Global Life Science Jobs  11-50 employees   \n",
       "1         On-site                      Resolute Recruitment    not specified   \n",
       "2         On-site                      Resolute Recruitment    not specified   \n",
       "3         On-site                       Mole Valley Farmers    not specified   \n",
       "4         On-site                                   FORFIRM    not specified   \n",
       "\n",
       "             company_field skills  \\\n",
       "0  Staffing and Recruiting   None   \n",
       "1            not specified   None   \n",
       "2            not specified   None   \n",
       "3            not specified   None   \n",
       "4            not specified   None   \n",
       "\n",
       "                                     job_description  applicants  \n",
       "0                              What You Will Achi...        47.0  \n",
       "1                                                            NaN  \n",
       "2                               Data Analyst - Lo...         NaN  \n",
       "3                                Salary:     To b...         NaN  \n",
       "4                                FORFIRM     is p...         NaN  "
      ]
     },
     "metadata": {},
     "output_type": "display_data"
    }
   ],
   "source": [
    "display(data.info(), data.head())"
   ]
  },
  {
   "cell_type": "code",
   "execution_count": 4,
   "id": "dd718c03",
   "metadata": {
    "colab": {
     "base_uri": "https://localhost:8080/",
     "height": 34
    },
    "executionInfo": {
     "elapsed": 12,
     "status": "ok",
     "timestamp": 1685858142547,
     "user": {
      "displayName": "Yulia Murtazina",
      "userId": "04833768296677648560"
     },
     "user_tz": -480
    },
    "id": "dd718c03",
    "outputId": "cba4bc2f-ce51-43f7-f071-728e36e00814"
   },
   "outputs": [
    {
     "data": {
      "text/plain": [
       "112"
      ]
     },
     "metadata": {},
     "output_type": "display_data"
    }
   ],
   "source": [
    "# проверим данные на наличие дубликатов\n",
    "display(data.duplicated().sum())"
   ]
  },
  {
   "cell_type": "code",
   "execution_count": 5,
   "id": "a7c2d2ee",
   "metadata": {
    "executionInfo": {
     "elapsed": 12,
     "status": "ok",
     "timestamp": 1685858142547,
     "user": {
      "displayName": "Yulia Murtazina",
      "userId": "04833768296677648560"
     },
     "user_tz": -480
    },
    "id": "a7c2d2ee",
    "scrolled": false
   },
   "outputs": [],
   "source": [
    "# удалим дубликаты\n",
    "data = data.drop_duplicates().reset_index(drop=True)"
   ]
  },
  {
   "cell_type": "code",
   "execution_count": 6,
   "id": "f4d0706d",
   "metadata": {
    "colab": {
     "base_uri": "https://localhost:8080/",
     "height": 208
    },
    "executionInfo": {
     "elapsed": 16,
     "status": "ok",
     "timestamp": 1685858142551,
     "user": {
      "displayName": "Yulia Murtazina",
      "userId": "04833768296677648560"
     },
     "user_tz": -480
    },
    "id": "f4d0706d",
    "outputId": "c8c5dc3e-702d-4706-9522-b9025acb8aa4"
   },
   "outputs": [
    {
     "data": {
      "text/plain": [
       "title                0\n",
       "location             0\n",
       "country              0\n",
       "employment_type      0\n",
       "company_name         2\n",
       "employee_qty         0\n",
       "company_field        0\n",
       "skills               0\n",
       "job_description      0\n",
       "applicants         159\n",
       "dtype: int64"
      ]
     },
     "metadata": {},
     "output_type": "display_data"
    }
   ],
   "source": [
    "# проверим данные на наличие пропусков\n",
    "display(data.isna().sum())"
   ]
  },
  {
   "cell_type": "markdown",
   "id": "fd3e91b7",
   "metadata": {
    "id": "fd3e91b7"
   },
   "source": [
    "Краткий анализ пропусков:\n",
    "- `company_name` - Т.к. названия компаний понадобятся нам для дальнейшего анализа и их пропущено всего два значения, просто удалим эти строки с пропусками из датафрейма.\n",
    "- `applicants` - Для того, чтобы заполнить пропуски в этом столбце, можно предположить, что пропуски соответствуют отсутствию откликов на вакансию, т.е. равны 0. Но, если это допущение будет неверным, такая замена сильно исказит исходные данные. Поэтому оставим этот столбец без изменений."
   ]
  },
  {
   "cell_type": "code",
   "execution_count": 7,
   "id": "468dc389",
   "metadata": {
    "executionInfo": {
     "elapsed": 15,
     "status": "ok",
     "timestamp": 1685858142551,
     "user": {
      "displayName": "Yulia Murtazina",
      "userId": "04833768296677648560"
     },
     "user_tz": -480
    },
    "id": "468dc389"
   },
   "outputs": [],
   "source": [
    "# удалим строки с пропущенными company_name\n",
    "data.dropna(subset=['company_name'], inplace=True)"
   ]
  },
  {
   "cell_type": "code",
   "execution_count": 8,
   "id": "8db6ccfa",
   "metadata": {
    "colab": {
     "base_uri": "https://localhost:8080/",
     "height": 1000
    },
    "executionInfo": {
     "elapsed": 16,
     "status": "ok",
     "timestamp": 1685858142552,
     "user": {
      "displayName": "Yulia Murtazina",
      "userId": "04833768296677648560"
     },
     "user_tz": -480
    },
    "id": "8db6ccfa",
    "outputId": "a015afdb-9cbe-46c8-c024-372f8c829c7d",
    "scrolled": true
   },
   "outputs": [
    {
     "data": {
      "text/plain": [
       "array(['11-50 employees', 'not specified', '501-1,000 employees',\n",
       "       '1,001-5,000 employees', '51-200 employees', '10,001+ employees',\n",
       "       '1-10 employees', '201-500 employees', '5,001-10,000 employees',\n",
       "       'Retail Apparel and Fashion',\n",
       "       'See how you compare to 9 applicants. Try Premium for free',\n",
       "       'Svein Grande is hiring for this job',\n",
       "       'See how you compare to 19 applicants. Try Premium for free',\n",
       "       'See how you compare to 22 applicants. Try Premium for free',\n",
       "       'Romain GUIHENEUF is hiring for this job',\n",
       "       'See how you compare to 13 applicants. Try Premium for free',\n",
       "       'See recent hiring trends for Devonshire Hayes Recruitment Specialists Ltd. Try Premium for free',\n",
       "       'See how you compare to 10 applicants. Try Premium for free',\n",
       "       'See how you compare to 4 applicants. Try Premium for free'],\n",
       "      dtype=object)"
      ]
     },
     "metadata": {},
     "output_type": "display_data"
    },
    {
     "data": {
      "text/plain": [
       "array(['Staffing and Recruiting', 'not specified',\n",
       "       'IT Services and IT Consulting', 'Airlines and Aviation',\n",
       "       'Medical Equipment Manufacturing',\n",
       "       'Information Technology & Services',\n",
       "       'Transportation, Logistics, Supply Chain and Storage',\n",
       "       'Real Estate', 'Financial Services', 'Entertainment Providers',\n",
       "       'Software Development', '51-200 employees',\n",
       "       'Technology, Information and Internet', 'Manufacturing',\n",
       "       'Human Resources', 'Banking', 'Advertising Services',\n",
       "       'Public Relations and Communications Services',\n",
       "       'Packaging and Containers Manufacturing', '11-50 employees',\n",
       "       'Telecommunications', 'Newspaper Publishing', 'Higher Education',\n",
       "       'Internet Marketplace Platforms', 'Retail', 'Insurance',\n",
       "       'Leisure, Travel & Tourism', 'Human Resources Services',\n",
       "       'Motor Vehicle Manufacturing',\n",
       "       'Personal Care Product Manufacturing', 'Utilities',\n",
       "       'International Trade and Development', 'Information Services',\n",
       "       'Computer Games', 'Retail Health and Personal Care Products',\n",
       "       'Business Consulting and Services', 'Pharmaceutical Manufacturing',\n",
       "       'Armed Forces', 'Farming',\n",
       "       'Aviation and Aerospace Component Manufacturing',\n",
       "       'Retail Apparel and Fashion',\n",
       "       'Appliances, Electrical, and Electronics Manufacturing',\n",
       "       'Wholesale', 'Book and Periodical Publishing',\n",
       "       'Food and Beverage Manufacturing',\n",
       "       'Outsourcing and Offshoring Consulting', 'Performing Arts',\n",
       "       'Translation and Localization', 'Travel Arrangements',\n",
       "       'Gambling Facilities and Casinos', 'Non-profit Organizations',\n",
       "       'Government Administration', 'Retail Luxury Goods and Jewelry',\n",
       "       'Defense & Space', 'Oil and Gas', 'Internet Publishing',\n",
       "       'Chemical Manufacturing',\n",
       "       'Renewable Energy Semiconductor Manufacturing', 'Market Research',\n",
       "       '201-500 employees', 'Food and Beverage Services',\n",
       "       'Truck Transportation', 'Consumer Services',\n",
       "       'Biotechnology Research',\n",
       "       'See how you compare to 9 applicants. Try Premium for free',\n",
       "       'Svein Grande is hiring for this job', 'Professional Services',\n",
       "       'Investment Management', 'Industrial Machinery Manufacturing',\n",
       "       'Motor Vehicle Parts Manufacturing', 'Mental Health Care',\n",
       "       'See how you compare to 19 applicants. Try Premium for free',\n",
       "       '501-1,000 employees', '1,001-5,000 employees',\n",
       "       'See how you compare to 22 applicants. Try Premium for free',\n",
       "       'Environmental Services', '1-10 employees',\n",
       "       'Romain GUIHENEUF is hiring for this job', 'Spectator Sports',\n",
       "       'Sporting Goods Manufacturing', 'Law Enforcement',\n",
       "       'Computers and Electronics Manufacturing',\n",
       "       'Machinery Manufacturing', 'Printing Services',\n",
       "       'International Affairs', 'Dairy Product Manufacturing',\n",
       "       'Automation Machinery Manufacturing', 'Hospitality',\n",
       "       'Wind Electric Power Generation', 'Restaurants',\n",
       "       'Hospitals and Health Care', 'Computer and Network Security',\n",
       "       'Retail Groceries', 'Wholesale Building Materials', 'Research',\n",
       "       'Construction', 'Law Practice', 'Railroad Equipment Manufacturing',\n",
       "       'Apparel & Fashion', 'Glass, Ceramics and Concrete Manufacturing',\n",
       "       'Research Services', 'Food & Beverages', 'Musicians',\n",
       "       'Wellness and Fitness Services',\n",
       "       'See how you compare to 13 applicants. Try Premium for free',\n",
       "       'Consumer Goods', 'Investment Banking',\n",
       "       'Primary Metal Manufacturing', 'Cosmetics',\n",
       "       'See recent hiring trends for Devonshire Hayes Recruitment Specialists Ltd. Try Premium for free',\n",
       "       'See how you compare to 10 applicants. Try Premium for free',\n",
       "       'Defense and Space Manufacturing',\n",
       "       'Philanthropic Fundraising Services',\n",
       "       'Education Administration Programs', 'Food Production',\n",
       "       'Automotive', 'Semiconductor Manufacturing',\n",
       "       'Renewable Energy Power Generation', 'Retail Office Equipment',\n",
       "       'See how you compare to 4 applicants. Try Premium for free',\n",
       "       'Individual and Family Services'], dtype=object)"
      ]
     },
     "metadata": {},
     "output_type": "display_data"
    }
   ],
   "source": [
    "# посмотрим на уникальные значения признаков, в которых может содержаться лишняя информация\n",
    "display(data['employee_qty'].unique(), data['company_field'].unique())"
   ]
  },
  {
   "cell_type": "code",
   "execution_count": 9,
   "id": "4dfec29a",
   "metadata": {
    "executionInfo": {
     "elapsed": 15,
     "status": "ok",
     "timestamp": 1685858142552,
     "user": {
      "displayName": "Yulia Murtazina",
      "userId": "04833768296677648560"
     },
     "user_tz": -480
    },
    "id": "4dfec29a"
   },
   "outputs": [],
   "source": [
    "# удалим лишнюю информацию из столбца employee_qty и добавим группирующую составляющую\n",
    "# для этого напишем соответствующие функции \n",
    "def search_employees(name):\n",
    "    name = str(name).lower()\n",
    "    part_1 = r'\\bemployees\\b'\n",
    "    result = re.search(part_1, name)\n",
    "    if result:\n",
    "        result = name\n",
    "    else:\n",
    "        result = np.nan \n",
    "    return result \n",
    "\n",
    "def group_employees(name):\n",
    "    if name is not np.nan:\n",
    "        if (re.search(r'10\\s', name) or re.search(r'50\\s', name)) is not None:\n",
    "            result = 'small'\n",
    "        elif (re.search(r'200\\s', name) or re.search(r'500\\s', name)) is not None:\n",
    "            result = 'medium'\n",
    "        elif (re.search(r'1,000\\s', name) or re.search(r'5,000\\s', name) or re.search(r'10,000\\s', name)) is not None:\n",
    "            result = 'big'\n",
    "        elif re.search(r'10,001\\+', name) is not None:\n",
    "            result = 'very big'\n",
    "    else:\n",
    "        result = np.nan\n",
    "    return result"
   ]
  },
  {
   "cell_type": "code",
   "execution_count": 10,
   "id": "336dad36",
   "metadata": {
    "executionInfo": {
     "elapsed": 15,
     "status": "ok",
     "timestamp": 1685858142552,
     "user": {
      "displayName": "Yulia Murtazina",
      "userId": "04833768296677648560"
     },
     "user_tz": -480
    },
    "id": "336dad36"
   },
   "outputs": [],
   "source": [
    "# применим наши функции к датафрейму\n",
    "data['employee_qty'] = data['employee_qty'].apply(search_employees)\n",
    "data['group_employee'] = data['employee_qty'].apply(group_employees)"
   ]
  },
  {
   "cell_type": "code",
   "execution_count": 11,
   "id": "09c3e5c6",
   "metadata": {
    "colab": {
     "base_uri": "https://localhost:8080/"
    },
    "executionInfo": {
     "elapsed": 14,
     "status": "ok",
     "timestamp": 1685858142552,
     "user": {
      "displayName": "Yulia Murtazina",
      "userId": "04833768296677648560"
     },
     "user_tz": -480
    },
    "id": "09c3e5c6",
    "outputId": "e19a8b95-3160-4b27-8f23-6ba7a06afe63"
   },
   "outputs": [
    {
     "name": "stdout",
     "output_type": "stream",
     "text": [
      "Количество пропусков в столбце с размером компаний: 27.\n"
     ]
    }
   ],
   "source": [
    "a = data['employee_qty'].isna().sum()\n",
    "\n",
    "print(f\"Количество пропусков в столбце с размером компаний: {a}.\")"
   ]
  },
  {
   "cell_type": "code",
   "execution_count": 12,
   "id": "50100223",
   "metadata": {
    "executionInfo": {
     "elapsed": 12,
     "status": "ok",
     "timestamp": 1685858142552,
     "user": {
      "displayName": "Yulia Murtazina",
      "userId": "04833768296677648560"
     },
     "user_tz": -480
    },
    "id": "50100223"
   },
   "outputs": [],
   "source": [
    "# удалим лишнюю информацию из столбца company_field\n",
    "# для этого напишем соответствующую функцию\n",
    "def search_field(name):\n",
    "    name = str(name).lower()\n",
    "    part_1 = r'(\\b\\d{1,}\\b)|(not specified)|(\\bhiring\\b)'\n",
    "    result = re.search(part_1, name)\n",
    "    if result:\n",
    "        result = np.nan\n",
    "    else:\n",
    "        result = name   \n",
    "    return result"
   ]
  },
  {
   "cell_type": "code",
   "execution_count": 13,
   "id": "131e9224",
   "metadata": {
    "executionInfo": {
     "elapsed": 12,
     "status": "ok",
     "timestamp": 1685858142552,
     "user": {
      "displayName": "Yulia Murtazina",
      "userId": "04833768296677648560"
     },
     "user_tz": -480
    },
    "id": "131e9224"
   },
   "outputs": [],
   "source": [
    "# применим нашу функцию к датафрейму\n",
    "data['company_field'] = data['company_field'].apply(search_field)"
   ]
  },
  {
   "cell_type": "code",
   "execution_count": 14,
   "id": "1c2f2308",
   "metadata": {
    "colab": {
     "base_uri": "https://localhost:8080/"
    },
    "executionInfo": {
     "elapsed": 21,
     "status": "ok",
     "timestamp": 1685858142958,
     "user": {
      "displayName": "Yulia Murtazina",
      "userId": "04833768296677648560"
     },
     "user_tz": -480
    },
    "id": "1c2f2308",
    "outputId": "bfd710c4-b4d8-4219-bf6a-e524366f4183",
    "scrolled": true
   },
   "outputs": [
    {
     "name": "stdout",
     "output_type": "stream",
     "text": [
      "Количество пропусков в столбце с областью деятельности компаний: 83.\n"
     ]
    }
   ],
   "source": [
    "b = data['company_field'].isna().sum()\n",
    "\n",
    "print(f\"Количество пропусков в столбце с областью деятельности компаний: {b}.\")"
   ]
  },
  {
   "cell_type": "code",
   "execution_count": 15,
   "id": "414efa06",
   "metadata": {},
   "outputs": [],
   "source": [
    "# отформатируем столбцы location и country\n",
    "# для этого напишем соответствующую функцию\n",
    "def func_format(name):\n",
    "    name = str(name).lower()\n",
    "    result = re.sub(r'(\\bgreater\\b)|(\\bmetropolitan\\b)|(\\barea\\b)|(\\bregion\\b)','', name).strip(' ')\n",
    "    return result        "
   ]
  },
  {
   "cell_type": "code",
   "execution_count": 16,
   "id": "41207994",
   "metadata": {},
   "outputs": [],
   "source": [
    "# применим нашу функцию к датафрейму\n",
    "data['location'] = data['location'].apply(func_format)\n",
    "data['country'] = data['country'].apply(func_format)"
   ]
  },
  {
   "cell_type": "code",
   "execution_count": 17,
   "id": "b10bb3bc",
   "metadata": {
    "executionInfo": {
     "elapsed": 9,
     "status": "ok",
     "timestamp": 1685858142959,
     "user": {
      "displayName": "Yulia Murtazina",
      "userId": "04833768296677648560"
     },
     "user_tz": -480
    },
    "id": "b10bb3bc"
   },
   "outputs": [],
   "source": [
    "# выделим вакансии для аналитиков данных и bi аналитиков\n",
    "# для этого напишем функцию,принимающую на вход значения столбца applicants и возвращающую названия подходящих вакансий\n",
    "def DA_BI(name):\n",
    "    name = str(name).lower()\n",
    "    part_1 = r'((^(?=.*data)(?=.*\\banal).*)|(^(?=.*bi)(?=.*\\banal).*)|(^(?=.*business)(?=.*intelligence)(?=.*\\banal).*))'\n",
    "    result = re.search(part_1, name)\n",
    "    if result:\n",
    "        result = name\n",
    "    else:\n",
    "        result = np.nan    \n",
    "    return result"
   ]
  },
  {
   "cell_type": "code",
   "execution_count": 18,
   "id": "d7a52bec",
   "metadata": {
    "executionInfo": {
     "elapsed": 9,
     "status": "ok",
     "timestamp": 1685858142959,
     "user": {
      "displayName": "Yulia Murtazina",
      "userId": "04833768296677648560"
     },
     "user_tz": -480
    },
    "id": "d7a52bec"
   },
   "outputs": [],
   "source": [
    "# применим нашу функцию к датафрейму\n",
    "data['title'] = data['title'].apply(DA_BI)"
   ]
  },
  {
   "cell_type": "code",
   "execution_count": 19,
   "id": "80149acd",
   "metadata": {
    "colab": {
     "base_uri": "https://localhost:8080/"
    },
    "executionInfo": {
     "elapsed": 9,
     "status": "ok",
     "timestamp": 1685858142959,
     "user": {
      "displayName": "Yulia Murtazina",
      "userId": "04833768296677648560"
     },
     "user_tz": -480
    },
    "id": "80149acd",
    "outputId": "a9ec506f-a467-4a5b-b08d-59e8439c188a"
   },
   "outputs": [
    {
     "name": "stdout",
     "output_type": "stream",
     "text": [
      "Количество вакансий для аналитиков данных и bi аналитиков: 243.\n"
     ]
    }
   ],
   "source": [
    "c = data['title'].nunique()\n",
    "\n",
    "print(f\"Количество вакансий для аналитиков данных и bi аналитиков: {c}.\")"
   ]
  },
  {
   "cell_type": "code",
   "execution_count": 20,
   "id": "5fcf434c",
   "metadata": {
    "executionInfo": {
     "elapsed": 7,
     "status": "ok",
     "timestamp": 1685858142959,
     "user": {
      "displayName": "Yulia Murtazina",
      "userId": "04833768296677648560"
     },
     "user_tz": -480
    },
    "id": "5fcf434c"
   },
   "outputs": [],
   "source": [
    "# сделаем срез исходного датафрейма, оставив в нем только интересующие нас вакансии\n",
    "data.dropna(subset=['title'], inplace=True)"
   ]
  },
  {
   "cell_type": "code",
   "execution_count": 21,
   "id": "887dba5f",
   "metadata": {
    "executionInfo": {
     "elapsed": 7,
     "status": "ok",
     "timestamp": 1685858142959,
     "user": {
      "displayName": "Yulia Murtazina",
      "userId": "04833768296677648560"
     },
     "user_tz": -480
    },
    "id": "887dba5f"
   },
   "outputs": [],
   "source": [
    "# выделим хад-скилы из описания вакансий \n",
    "# для этого создадим список с наиболее распространенными хард-скилами аналитиков\n",
    "hard_skills = (['ai', 'ml', 'r', 'a/b testing', 'actian', 'adobe analytics', 'airflow', 'alooma', 'alteryx', 'apache camel', \n",
    "                'apache nifi', 'apache spark', 'api', 'asana', 'aws', 'aws glue', 'azure', 'azure data factory', 'basecamp', \n",
    "                'bigquery', 'birst', 'blendo', 'bootstrap', 'c#', 'c++', 'cdata sync', 'cognos', 'computer vision', 'css', \n",
    "                'dashboard', 'data studio', 'databricks', 'dataddo', 'datahub', 'datastage', 'dbconvert', 'dbeaver', \n",
    "                'deep learning', 'dl/ml', 'docker', 'domo', 'erwin', 'etleap', 'excel', 'fivetran', 'gcp', 'github', 'gitlab', \n",
    "                'google analytics', 'google data flow', 'grafana', 'hadoop', 'hana', 'hive', 'html', 'ibm coremetrics', \n",
    "                'inetsoft', 'informatica', 'integrate.io', 'iri voracity', 'izenda', 'java', 'java script', 'jenkins', 'jira', \n",
    "                'julia', 'k2view', 'kantar', 'keras', 'linux', 'logstash', 'looker', 'lstm', 'luidgi', 'matillion', 'matlab', \n",
    "                'metabase', 'microsoft sql', 'microstrategy', 'miro', 'ml flow', 'natural nanguage processing', 'nlp', \n",
    "                'omniture', 'oracle business intelligence', 'oracle data integrator', 'panorama', 'pentaho', 'postgresql', \n",
    "                'power bi', 'power point', 'python', 'pytorchhevo data', 'qlik sense', 'qlikview', 'querysurge', 'rapidminer', \n",
    "                'redash', 'redshift', 'rivery', 'salesforce', 'sap business objects', 'sas', 'sas visual analytics', 'scala', \n",
    "                'selenium', 'singer', 'sisense', 'skyvia', 'snowflake', 'spark', 'spotfire', 'spss', 'sql', 'ssis', \n",
    "                'statistics', 'statsbot', 'stitch', 'streamsets', 'tableau', 'talend', 'targit', 'tensorflow', 'thoughtspot', \n",
    "                'timeseries', 'trello', 'vba', 'webfocus', 'wfh', 'xplenty', 'yellowfin', 'javascript', 'mendix', \n",
    "                'adobe launch', 'facebook business manager', 'business objects bi', 'tealium', 'google ads','optimizely', \n",
    "                'google optimize', 'hubspot', 'auth0', 'oauth', 'adobe target', 'ga360', 'sa360', 'dv360', \n",
    "                'adobe audience manager', 'data factory', 'xtract.io', 'hevo data', 'google tag manager', 'powerbi', 'sap', \n",
    "                'microsoft sql server', 'oracle', 'yellowfin', 'cluvio', 'adobe experience platform', 'qlik', 'plotly', \n",
    "                'mongodb', 'seaborn', 'matplotlib', 'google sheets', 'confluence', 'google workspace', 'pandas', 'numpy', \n",
    "                'scikit-learn', 'pytorch', 'kafka', 'dash', 'streamlit', 'shiny', 'amplitude', 'dune', 'postgre', 'mysql', \n",
    "                'clickhouse', 'sem rush', 'semrush', 'fuzzy', 'pyspark', 'cloudera', 'hbase', 'hdfs', 'shell', 'vtom', 'unix', \n",
    "                'etl', 'stambia', 'power amc', 'powerquery', 'powerpivot', 'openshift', 'kubernetes', 'openstack', 'ansible', \n",
    "                'bitbucket', 'elasticsearch', 'kibana', 'couchbase', 'redis', 'splunk', 'big query', 'spreadsheet', 'retool', \n",
    "                'dbt', 'segment', 'mixpanel', 'hightouch', 'dataflow', 'telegraf', 'influxdb', 'chronograf', 'kapacitor', \n",
    "                'beats', 's3', 'lambda', 'dynamodb', 'posthog', 'google cloud platform', 'nosql', 'sssr', 't-sql', 'cassandra', \n",
    "                'powerpoint', 'data fusion', 'elt', 'data warehouse', 'terraform', 'ci/cd', 'amazon web services', 'raphtory', \n",
    "                'neo4j', 'rust', 'julia', 'data mining', 'scipy', 'jmp', 'composer', 'mlflow', 'bash', 'cicd', 'd3.js', \n",
    "                'ggplot', 'sparkml', 'amazon machine learning', 'aml', 'mxnet', 'caffe', 'theano', 'cntk', 'conda', 'jupyter', \n",
    "                'terraapi', 'octave', 'git', 'svn', 'nltk', 'gensim', 'spacy'])\n",
    "\n",
    "# и напишем функцию, принимающую на вход значения столбца job_description и возвращающую хард-скилы\n",
    "def search_hard_skills(name):\n",
    "    name = str(name).lower()\n",
    "    result = [word for word in [word.strip(\"\"\" !'\"#$%&()*+,-./:;<=>?@[\\]^_{|}~\"\"\") for word in name.split()] \n",
    "              if word in hard_skills]\n",
    "    if len(result) == 0:\n",
    "        result = np.nan\n",
    "    else: \n",
    "        result = set(result)\n",
    "    return result"
   ]
  },
  {
   "cell_type": "code",
   "execution_count": 22,
   "id": "591d45e4",
   "metadata": {
    "executionInfo": {
     "elapsed": 1506,
     "status": "ok",
     "timestamp": 1685858144462,
     "user": {
      "displayName": "Yulia Murtazina",
      "userId": "04833768296677648560"
     },
     "user_tz": -480
    },
    "id": "591d45e4"
   },
   "outputs": [],
   "source": [
    "# применим нашу функцию к датафрейму\n",
    "data['hard_skills'] = data['job_description'].apply(search_hard_skills)"
   ]
  },
  {
   "cell_type": "code",
   "execution_count": 23,
   "id": "13fa68b9",
   "metadata": {
    "colab": {
     "base_uri": "https://localhost:8080/"
    },
    "executionInfo": {
     "elapsed": 13,
     "status": "ok",
     "timestamp": 1685858144462,
     "user": {
      "displayName": "Yulia Murtazina",
      "userId": "04833768296677648560"
     },
     "user_tz": -480
    },
    "id": "13fa68b9",
    "outputId": "e8c9f92f-b950-446a-b722-5b5d15ea113f"
   },
   "outputs": [
    {
     "name": "stdout",
     "output_type": "stream",
     "text": [
      "Количество пропусков в столбце с хард-скилами: 50.\n"
     ]
    }
   ],
   "source": [
    "e = data['hard_skills'].isna().sum()\n",
    "\n",
    "print(f\"Количество пропусков в столбце с хард-скилами: {e}.\")"
   ]
  },
  {
   "cell_type": "code",
   "execution_count": 24,
   "id": "e242d833",
   "metadata": {
    "executionInfo": {
     "elapsed": 13,
     "status": "ok",
     "timestamp": 1685858144463,
     "user": {
      "displayName": "Yulia Murtazina",
      "userId": "04833768296677648560"
     },
     "user_tz": -480
    },
    "id": "e242d833"
   },
   "outputs": [],
   "source": [
    "# удалим из датафрейма столбцы с признаками skills и job_description, которые не понадобятся нам для дальнешйего анализа\n",
    "data = data.drop(['skills', 'job_description'], axis=1)"
   ]
  },
  {
   "cell_type": "code",
   "execution_count": 25,
   "id": "feebf9ac",
   "metadata": {
    "executionInfo": {
     "elapsed": 13,
     "status": "ok",
     "timestamp": 1685858144463,
     "user": {
      "displayName": "Yulia Murtazina",
      "userId": "04833768296677648560"
     },
     "user_tz": -480
    },
    "id": "feebf9ac"
   },
   "outputs": [],
   "source": [
    "# создадим отдельный датафрейм для анализа самых востребованных хард-скилов аналитиков \n",
    "hard_skills = data.explode('hard_skills').reset_index(drop=True)"
   ]
  },
  {
   "cell_type": "code",
   "execution_count": 26,
   "id": "c16fc20a",
   "metadata": {
    "colab": {
     "base_uri": "https://localhost:8080/",
     "height": 427
    },
    "executionInfo": {
     "elapsed": 13,
     "status": "ok",
     "timestamp": 1685858144463,
     "user": {
      "displayName": "Yulia Murtazina",
      "userId": "04833768296677648560"
     },
     "user_tz": -480
    },
    "id": "c16fc20a",
    "outputId": "3918cb6e-2def-4d63-dd8b-e6485f915d65"
   },
   "outputs": [],
   "source": [
    "# выгружаем данные для построения дашборда\n",
    "data.to_csv('linkedin_data_git.csv', encoding='utf8')\n",
    "hard_skills.to_csv('linkedin_hard_skills_git.csv', encoding='utf8')"
   ]
  },
  {
   "cell_type": "markdown",
   "id": "72701cdc",
   "metadata": {},
   "source": [
    "## Выводы\n",
    "\n",
    "### Задача\n",
    "\n",
    "Исследовать рынок открытых вакансий специалистов DA в Европе с помощью спарсенных с LinkedIn данных. Результаты исследования собрать в дашборд.\n",
    "\n",
    "### Особенности рынка открытых вакансий DA в Европе\n",
    "\n",
    "- Самые востребованные хард-скилы для аналитиков в Европе: sql, excel, python, tableau, ai, power bi, r.\n",
    "- Топ стран по количеству вакансий для аналитиков: Италия, Франция, Великобритания, Германия, Нидерланды.\n",
    "- Самый распространенный формат работы: гибридный график.\n",
    "\n",
    "### [Dashboard](https://public.tableau.com/app/profile/narbekovavioletta/viz/dash_linkedin/dash_linkedin)"
   ]
  }
 ],
 "metadata": {
  "colab": {
   "provenance": []
  },
  "kernelspec": {
   "display_name": "Python 3 (ipykernel)",
   "language": "python",
   "name": "python3"
  },
  "language_info": {
   "codemirror_mode": {
    "name": "ipython",
    "version": 3
   },
   "file_extension": ".py",
   "mimetype": "text/x-python",
   "name": "python",
   "nbconvert_exporter": "python",
   "pygments_lexer": "ipython3",
   "version": "3.9.12"
  },
  "toc": {
   "base_numbering": 1,
   "nav_menu": {},
   "number_sections": true,
   "sideBar": true,
   "skip_h1_title": false,
   "title_cell": "Table of Contents",
   "title_sidebar": "Contents",
   "toc_cell": false,
   "toc_position": {
    "height": "calc(100% - 180px)",
    "left": "10px",
    "top": "150px",
    "width": "426.667px"
   },
   "toc_section_display": true,
   "toc_window_display": true
  }
 },
 "nbformat": 4,
 "nbformat_minor": 5
}
